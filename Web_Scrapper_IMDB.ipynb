{
 "cells": [
  {
   "cell_type": "markdown",
   "metadata": {},
   "source": [
    "# Web Scrapper - IMDB Top 250 movies"
   ]
  },
  {
   "cell_type": "code",
   "execution_count": 1,
   "metadata": {},
   "outputs": [
    {
     "name": "stdout",
     "output_type": "stream",
     "text": [
      "Libraries ready 2 go\n"
     ]
    }
   ],
   "source": [
    "# Libraries\n",
    "import requests as rq\n",
    "from bs4 import BeautifulSoup\n",
    "import numpy as np\n",
    "import pandas as pd\n",
    "print('Libraries ready 2 go')"
   ]
  },
  {
   "cell_type": "code",
   "execution_count": 2,
   "metadata": {},
   "outputs": [
    {
     "data": {
      "text/plain": [
       "200"
      ]
     },
     "execution_count": 2,
     "metadata": {},
     "output_type": "execute_result"
    }
   ],
   "source": [
    "# Saving the url\n",
    "url = 'https://www.imdb.com/chart/top/?ref_=nv_mv_250'\n",
    "# Creating the request\n",
    "page = rq.get(url)\n",
    "# Making sure the web got the solicitude \n",
    "page.status_code "
   ]
  },
  {
   "cell_type": "code",
   "execution_count": 33,
   "metadata": {},
   "outputs": [],
   "source": [
    "# Plain text from the web\n",
    "# page.text # ugly"
   ]
  },
  {
   "cell_type": "code",
   "execution_count": 4,
   "metadata": {},
   "outputs": [],
   "source": [
    "# Creating the soup\n",
    "soup = BeautifulSoup(page.text, 'lxml')"
   ]
  },
  {
   "cell_type": "code",
   "execution_count": 32,
   "metadata": {},
   "outputs": [],
   "source": [
    "# Plain text from the web\n",
    "# print(soup.prettify()) # Pretty"
   ]
  },
  {
   "cell_type": "code",
   "execution_count": 34,
   "metadata": {
    "scrolled": true
   },
   "outputs": [],
   "source": [
    "# looks like the \"lister\" tag has all the information we need\n",
    "general = soup.find('div', attrs = {'class':'lister'})\n",
    "# But we still need to go deeper\n",
    "general = soup.find('tbody', attrs = {'class':'lister-list'}).find_all('tr')"
   ]
  },
  {
   "cell_type": "code",
   "execution_count": 35,
   "metadata": {},
   "outputs": [],
   "source": [
    "# Seems like all the information we need are in these tags, now we have to extract them\n",
    "# Creating a list with all the links\n",
    "section = general[0]\n",
    "index = 1\n",
    "link_sections = [section.a.get('href') for section in general]\n",
    "# All movies have the below ref\n",
    "common = '?pf_rd_m=A2FGELUUNOQJNL&pf_rd_p=1a264172-ae11-42e4-8ef7-7fed1973bb8f&pf_rd_r=MBY5AS7XQMWKBXS6Y8N7&pf_rd_s=center-1&pf_rd_t=15506&pf_rd_i=top&ref_=chttp_tt_'\n",
    "links = []\n",
    "for i in link_sections:\n",
    "    link = ('https://www.imdb.com' + str(i) + common + str (index)) # It is important the https -> Schema\n",
    "    links.append(link)\n",
    "    index += 1"
   ]
  },
  {
   "cell_type": "code",
   "execution_count": 8,
   "metadata": {},
   "outputs": [
    {
     "name": "stdout",
     "output_type": "stream",
     "text": [
      "This is the name of the movie: The Shawshank Redemption\n",
      "This is the name of the protagonists and directors: Frank Darabont (dir.), Tim Robbins, Morgan Freeman\n",
      "This is the index: 1\n",
      "This is the rating: 9.233473393603022\n",
      "This is the number of qualifiers: 2575422\n",
      "This is the release year: (1994)\n"
     ]
    }
   ],
   "source": [
    "# Let's extract the index, rating, number of qualifeirs, release year, movie name, prot and director \n",
    "index = index = section.find('span', attrs = {'name':'rk'}).get('data-value')\n",
    "rating = section.find('span', attrs = {'name':'ir'}).get('data-value')\n",
    "qualifiers = section.find('span', attrs = {'name':'nv'}).get('data-value')\n",
    "year = section.find('span', attrs = {'class':'secondaryInfo'}).get_text()\n",
    "movie_name = section.find('td', attrs = {'class':'titleColumn'}).a.get_text()\n",
    "prot_direc = section.find('td', attrs = {'class':'titleColumn'}).a.get('title')\n",
    "\n",
    "print('This is the name of the movie: {}'.format(movie_name))\n",
    "print('This is the name of the protagonists and directors: {}'.format(prot_direc))\n",
    "print('This is the index: {}'.format(index))\n",
    "print('This is the rating: {}'.format(rating))\n",
    "print('This is the number of qualifiers: {}'.format(qualifiers))\n",
    "print('This is the release year: {}'.format(year))\n"
   ]
  },
  {
   "cell_type": "code",
   "execution_count": 17,
   "metadata": {},
   "outputs": [],
   "source": [
    "# Now let's try to create the lists for everything!\n",
    "movie_names = [section.find('td', attrs = {'class':'titleColumn'}).a.get_text() for section in general]\n",
    "ratings = [section.find('span', attrs = {'name':'ir'}).get('data-value') for section in general]\n",
    "qualifiers = [section.find('span', attrs = {'name':'nv'}).get('data-value') for section in general]\n",
    "year = [section.find('span', attrs = {'class':'secondaryInfo'}).get_text() for section in general]\n",
    "protagonist_dir = [section.find('td', attrs = {'class':'titleColumn'}).a.get('title') for section in general]"
   ]
  },
  {
   "cell_type": "markdown",
   "metadata": {},
   "source": [
    "# Working with errors"
   ]
  },
  {
   "cell_type": "code",
   "execution_count": 18,
   "metadata": {},
   "outputs": [
    {
     "data": {
      "text/plain": [
       "'https://www.imdb.com/title/tt0068646/?pf_rd_m=A2FGELUUNOQJNL&pf_rd_p=1a264172-ae11-42e4-8ef7-7fed1973bb8f&pf_rd_r=MBY5AS7XQMWKBXS6Y8N7&pf_rd_s=center-1&pf_rd_t=15506&pf_rd_i=top&ref_=chttp_tt_2'"
      ]
     },
     "execution_count": 18,
     "metadata": {},
     "output_type": "execute_result"
    }
   ],
   "source": [
    "# What if a link doesn't work anymore? And what if it does? Maybe we can get more information..\n",
    "one_link = links[1]\n",
    "one_link"
   ]
  },
  {
   "cell_type": "code",
   "execution_count": 19,
   "metadata": {},
   "outputs": [
    {
     "data": {
      "text/plain": [
       "'The aging patriarch of an organized crime dynasty in postwar New York City transfers control of his clandestine empire to his reluctant youngest son.The aging patriarch of an organized crime dynasty in postwar New York City transfers control of his clandestine empire to his reluctant youngest son.The aging patriarch of an organized crime dynasty in postwar New York City transfers control of his clandestine empire to his reluctant youngest son.'"
      ]
     },
     "execution_count": 19,
     "metadata": {},
     "output_type": "execute_result"
    }
   ],
   "source": [
    "# Seems like we can also put summary into our future dataset!\n",
    "link = rq.get(one_link)\n",
    "s_link = BeautifulSoup(link.text, 'lxml')\n",
    "s_link.find('p', attrs = {'data-testid':'plot'}).get_text()"
   ]
  },
  {
   "cell_type": "code",
   "execution_count": 29,
   "metadata": {
    "scrolled": true
   },
   "outputs": [
    {
     "name": "stdout",
     "output_type": "stream",
     "text": [
      "The aging patriarch of an organized crime dynasty in postwar New York City transfers control of his clandestine empire to his reluctant youngest son.The aging patriarch of an organized crime dynasty in postwar New York City transfers control of his clandestine empire to his reluctant youngest son.The aging patriarch of an organized crime dynasty in postwar New York City transfers control of his clandestine empire to his reluctant youngest son.\n"
     ]
    }
   ],
   "source": [
    "# Since we are entering new links, we should be carefull and play with try except blocks\n",
    "try:\n",
    "    link = rq.get(one_link)\n",
    "    if link.status_code == 200:\n",
    "        s_link = BeautifulSoup(link.text, 'lxml')\n",
    "        # Extrating the summary\n",
    "        summary = s_link.find('p', attrs = {'data-testid':'plot'}).get_text()\n",
    "        print(summary)\n",
    "        \n",
    "except Exception as e:\n",
    "    print('Error')\n",
    "    print(e)\n",
    "    print('\\n')"
   ]
  },
  {
   "cell_type": "code",
   "execution_count": 22,
   "metadata": {},
   "outputs": [
    {
     "name": "stdout",
     "output_type": "stream",
     "text": [
      "Scrapping movie number 1: ** The Shawshank Redemption **\n",
      "Scrapping movie number 2: ** El Padrino **\n",
      "Scrapping movie number 3: ** The Dark Knight **\n",
      "Scrapping movie number 4: ** El padrino: Parte II **\n",
      "Scrapping movie number 5: ** 12 Angry Men **\n",
      "Scrapping movie number 6: ** Schindler's List **\n",
      "Scrapping movie number 7: ** The Lord of the Rings: The Return of the King **\n",
      "Scrapping movie number 8: ** Pulp Fiction **\n",
      "Scrapping movie number 9: ** The Lord of the Rings: The Fellowship of the Ring **\n",
      "Scrapping movie number 10: ** El bueno, El malo y El feo **\n",
      "Scrapping movie number 11: ** Forrest Gump **\n",
      "Scrapping movie number 12: ** Fight Club **\n",
      "Scrapping movie number 13: ** El origen **\n",
      "Scrapping movie number 14: ** The Lord of the Rings: The Two Towers **\n",
      "Scrapping movie number 15: ** El imperio contraataca **\n",
      "Scrapping movie number 16: ** The Matrix **\n",
      "Scrapping movie number 17: ** Goodfellas **\n",
      "Scrapping movie number 18: ** One Flew Over the Cuckoo's Nest **\n",
      "Scrapping movie number 19: ** Se7en **\n",
      "Scrapping movie number 20: ** Shichinin no samurai **\n",
      "Scrapping movie number 21: ** It's a Wonderful Life **\n",
      "Scrapping movie number 22: ** The Silence of the Lambs **\n",
      "Scrapping movie number 23: ** Cidade de Deus **\n",
      "Scrapping movie number 24: ** Saving Private Ryan **\n",
      "Scrapping movie number 25: ** La vita è bella **\n",
      "Scrapping movie number 26: ** The Green Mile **\n",
      "Scrapping movie number 27: ** La guerra de las galaxias **\n",
      "Scrapping movie number 28: ** Interestelar **\n",
      "Scrapping movie number 29: ** Terminator 2: Judgment Day **\n",
      "Scrapping movie number 30: ** Back to the Future **\n",
      "Scrapping movie number 31: ** El viaje de Chihiro **\n",
      "Scrapping movie number 32: ** Psycho **\n",
      "Scrapping movie number 33: ** The Pianist **\n",
      "Scrapping movie number 34: ** Léon **\n",
      "Scrapping movie number 35: ** Parásito **\n",
      "Scrapping movie number 36: ** The Lion King **\n",
      "Scrapping movie number 37: ** American History X **\n",
      "Scrapping movie number 38: ** Gladiator **\n",
      "Scrapping movie number 39: ** The Usual Suspects **\n",
      "Scrapping movie number 40: ** The Departed **\n",
      "Scrapping movie number 41: ** The Prestige **\n",
      "Scrapping movie number 42: ** Casablanca **\n",
      "Scrapping movie number 43: ** Whiplash - Música y obsesión **\n",
      "Scrapping movie number 44: ** Intouchables **\n",
      "Scrapping movie number 45: ** Modern Times **\n",
      "Scrapping movie number 46: ** Hasta que llegó su hora **\n",
      "Scrapping movie number 47: ** Seppuku **\n",
      "Error scraping https://www.imdb.com/title/tt0056058/?pf_rd_m=A2FGELUUNOQJNL&pf_rd_p=1a264172-ae11-42e4-8ef7-7fed1973bb8f&pf_rd_r=MBY5AS7XQMWKBXS6Y8N7&pf_rd_s=center-1&pf_rd_t=15506&pf_rd_i=top&ref_=chttp_tt_47\n",
      "Status_Code = 200\n",
      "'NoneType' object has no attribute 'get_text'\n",
      "Scrapping movie number 48: ** La tumba de las luciérnagas **\n",
      "Scrapping movie number 49: ** Rear Window **\n",
      "Scrapping movie number 50: ** Alien **\n",
      "Scrapping movie number 51: ** City Lights **\n",
      "Error scraping https://www.imdb.com/title/tt0021749/?pf_rd_m=A2FGELUUNOQJNL&pf_rd_p=1a264172-ae11-42e4-8ef7-7fed1973bb8f&pf_rd_r=MBY5AS7XQMWKBXS6Y8N7&pf_rd_s=center-1&pf_rd_t=15506&pf_rd_i=top&ref_=chttp_tt_51\n",
      "Status_Code = 200\n",
      "'NoneType' object has no attribute 'get_text'\n",
      "Scrapping movie number 52: ** Nuovo Cinema Paradiso **\n",
      "Scrapping movie number 53: ** Memento **\n",
      "Scrapping movie number 54: ** Apocalypse Now **\n",
      "Scrapping movie number 55: ** Raiders of the Lost Ark **\n",
      "Scrapping movie number 56: ** Django Unchained **\n",
      "Scrapping movie number 57: ** WALL·E **\n",
      "Scrapping movie number 58: ** Das Leben der Anderen **\n",
      "Error scraping https://www.imdb.com/title/tt0405094/?pf_rd_m=A2FGELUUNOQJNL&pf_rd_p=1a264172-ae11-42e4-8ef7-7fed1973bb8f&pf_rd_r=MBY5AS7XQMWKBXS6Y8N7&pf_rd_s=center-1&pf_rd_t=15506&pf_rd_i=top&ref_=chttp_tt_58\n",
      "Status_Code = 200\n",
      "'NoneType' object has no attribute 'get_text'\n",
      "Scrapping movie number 59: ** Sunset Blvd. **\n",
      "Scrapping movie number 60: ** Paths of Glory **\n",
      "Scrapping movie number 61: ** The Shining **\n",
      "Scrapping movie number 62: ** El gran dictador **\n",
      "Scrapping movie number 63: ** Witness for the Prosecution **\n",
      "Scrapping movie number 64: ** Avengers: Infinity War **\n",
      "Scrapping movie number 65: ** Aliens **\n",
      "Scrapping movie number 66: ** American Beauty **\n",
      "Scrapping movie number 67: ** Dr. Strangelove or: How I Learned to Stop Worrying and Love the Bomb **\n",
      "Scrapping movie number 68: ** Batman: El caballero de la noche asciende **\n",
      "Scrapping movie number 69: ** Spider-Man: un nuevo uiverso **\n",
      "Scrapping movie number 70: ** Guasón **\n",
      "Scrapping movie number 71: ** Oldeuboi **\n",
      "Scrapping movie number 72: ** Braveheart **\n",
      "Scrapping movie number 73: ** Amadeus **\n",
      "Scrapping movie number 74: ** Toy Story **\n",
      "Scrapping movie number 75: ** Das Boot **\n",
      "Scrapping movie number 76: ** Coco **\n",
      "Scrapping movie number 77: ** Bastardos Sin Gloria **\n",
      "Scrapping movie number 78: ** Mononoke-hime **\n",
      "Scrapping movie number 79: ** Érase una vez en América **\n",
      "Scrapping movie number 80: ** Avengers: Endgame **\n",
      "Scrapping movie number 81: ** Good Will Hunting **\n",
      "Scrapping movie number 82: ** Requiem for a Dream **\n",
      "Scrapping movie number 83: ** Toy Story 3 **\n",
      "Scrapping movie number 84: ** Singin' in the Rain **\n",
      "Scrapping movie number 85: ** Tu Nombre **\n",
      "Scrapping movie number 86: ** El retorno del Jedi **\n",
      "Scrapping movie number 87: ** Spider-Man: Sin Camino a Casa **\n",
      "Scrapping movie number 88: ** 3 Idiots **\n",
      "Scrapping movie number 89: ** 2001: Odisea del espacio **\n",
      "Scrapping movie number 90: ** Reservoir Dogs **\n",
      "Scrapping movie number 91: ** Eternal Sunshine of the Spotless Mind **\n",
      "Scrapping movie number 92: ** Tengoku to jigoku **\n",
      "Scrapping movie number 93: ** Citizen Kane **\n",
      "Scrapping movie number 94: ** Cafarnaúm-La ciudad olvidada **\n",
      "Scrapping movie number 95: ** Lawrence of Arabia **\n",
      "Scrapping movie number 96: ** M - Eine Stadt sucht einen Mörder **\n",
      "Scrapping movie number 97: ** North by Northwest **\n",
      "Scrapping movie number 98: ** La cacería **\n",
      "Scrapping movie number 99: ** Vertigo **\n",
      "Scrapping movie number 100: ** Le fabuleux destin d'Amélie Poulain **\n",
      "Scrapping movie number 101: ** A Clockwork Orange **\n",
      "Scrapping movie number 102: ** Venga y vea **\n",
      "Scrapping movie number 103: ** Full Metal Jacket **\n",
      "Scrapping movie number 104: ** Double Indemnity **\n",
      "Scrapping movie number 105: ** The Apartment **\n",
      "Scrapping movie number 106: ** Scarface **\n",
      "Scrapping movie number 107: ** Taxi Driver **\n",
      "Scrapping movie number 108: ** To Kill a Mockingbird **\n",
      "Scrapping movie number 109: ** The Sting **\n",
      "Scrapping movie number 110: ** Ikiru **\n",
      "Scrapping movie number 111: ** Hamilton **\n",
      "Scrapping movie number 112: ** L.A. Confidential **\n",
      "Scrapping movie number 113: ** Up **\n",
      "Scrapping movie number 114: ** Heat **\n",
      "Scrapping movie number 115: ** Metropolis **\n",
      "Scrapping movie number 116: ** Cerdos y diamantes **\n",
      "Scrapping movie number 117: ** Jodaeiye Nader az Simin **\n",
      "Scrapping movie number 118: ** Die Hard **\n",
      "Scrapping movie number 119: ** Indiana Jones and the Last Crusade **\n",
      "Scrapping movie number 120: ** Incendies **\n",
      "Scrapping movie number 121: ** Ladri di biciclette **\n",
      "Scrapping movie number 122: ** 1917 **\n",
      "Scrapping movie number 123: ** Taare Zameen Par **\n",
      "Scrapping movie number 124: ** La caída **\n",
      "Error scraping https://www.imdb.com/title/tt0363163/?pf_rd_m=A2FGELUUNOQJNL&pf_rd_p=1a264172-ae11-42e4-8ef7-7fed1973bb8f&pf_rd_r=MBY5AS7XQMWKBXS6Y8N7&pf_rd_s=center-1&pf_rd_t=15506&pf_rd_i=top&ref_=chttp_tt_124\n",
      "Status_Code = 200\n",
      "'NoneType' object has no attribute 'get_text'\n",
      "Scrapping movie number 125: ** Per qualche dollaro in più **\n",
      "Scrapping movie number 126: ** Batman Begins **\n",
      "Scrapping movie number 127: ** Dangal **\n",
      "Scrapping movie number 128: ** The Kid **\n",
      "Error scraping https://www.imdb.com/title/tt0012349/?pf_rd_m=A2FGELUUNOQJNL&pf_rd_p=1a264172-ae11-42e4-8ef7-7fed1973bb8f&pf_rd_r=MBY5AS7XQMWKBXS6Y8N7&pf_rd_s=center-1&pf_rd_t=15506&pf_rd_i=top&ref_=chttp_tt_128\n",
      "Status_Code = 200\n",
      "'NoneType' object has no attribute 'get_text'\n",
      "Scrapping movie number 129: ** Una Eva y dos Adanes **\n",
      "Scrapping movie number 130: ** El padre **\n",
      "Scrapping movie number 131: ** All About Eve **\n",
      "Scrapping movie number 132: ** Green Book: Una amistad sin fronteras **\n",
      "Scrapping movie number 133: ** El lobo de Wall Street **\n",
      "Scrapping movie number 134: ** Judgment at Nuremberg **\n",
      "Scrapping movie number 135: ** Unforgiven **\n"
     ]
    },
    {
     "name": "stdout",
     "output_type": "stream",
     "text": [
      "Scrapping movie number 136: ** El laberinto del fauno **\n",
      "Scrapping movie number 137: ** Casino **\n",
      "Scrapping movie number 138: ** Ran **\n",
      "Scrapping movie number 139: ** Monty Python and the Holy Grail **\n",
      "Scrapping movie number 140: ** Una mente brillante **\n",
      "Scrapping movie number 141: ** There Will Be Blood **\n",
      "Scrapping movie number 142: ** El Sexto Sentido **\n",
      "Scrapping movie number 143: ** Yôjinbô **\n",
      "Scrapping movie number 144: ** The Truman Show **\n",
      "Scrapping movie number 145: ** The Treasure of the Sierra Madre **\n",
      "Scrapping movie number 146: ** Rashômon **\n",
      "Scrapping movie number 147: ** The Great Escape **\n",
      "Scrapping movie number 148: ** Shutter Island **\n",
      "Scrapping movie number 149: ** Kill Bill: Vol. 1 **\n",
      "Scrapping movie number 150: ** Jurassic Park **\n",
      "Scrapping movie number 151: ** No Country for Old Men **\n",
      "Scrapping movie number 152: ** The Elephant Man **\n",
      "Scrapping movie number 153: ** Raging Bull **\n",
      "Scrapping movie number 154: ** Finding Nemo **\n",
      "Scrapping movie number 155: ** Chinatown **\n",
      "Scrapping movie number 156: ** Lo que el viento se llevó **\n",
      "Scrapping movie number 157: ** V de venganza **\n",
      "Scrapping movie number 158: ** Intensa Mente **\n",
      "Scrapping movie number 159: ** Lock, Stock and Two Smoking Barrels **\n",
      "Scrapping movie number 160: ** El enigma de otro mundo **\n",
      "Scrapping movie number 161: ** Dial M for Murder **\n",
      "Scrapping movie number 162: ** El secreto de sus ojos **\n",
      "Scrapping movie number 163: ** The Bridge on the River Kwai **\n",
      "Scrapping movie number 164: ** Hauru no ugoku shiro **\n",
      "Scrapping movie number 165: ** Trainspotting **\n",
      "Scrapping movie number 166: ** Tres anúncios por un crimen **\n",
      "Scrapping movie number 167: ** Gran Torino **\n",
      "Scrapping movie number 168: ** Warrior **\n",
      "Scrapping movie number 169: ** Batman **\n",
      "Scrapping movie number 170: ** Fargo **\n",
      "Scrapping movie number 171: ** Mi vecino Totoro **\n",
      "Scrapping movie number 172: ** Intriga **\n",
      "Scrapping movie number 173: ** Million Dollar Baby **\n",
      "Scrapping movie number 174: ** The Gold Rush **\n",
      "Scrapping movie number 175: ** Blade Runner **\n",
      "Scrapping movie number 176: ** Nido de ratas **\n",
      "Scrapping movie number 177: ** Catch Me If You Can **\n",
      "Scrapping movie number 178: ** The Third Man **\n",
      "Scrapping movie number 179: ** Bacheha-Ye aseman **\n",
      "Scrapping movie number 180: ** The General **\n",
      "Scrapping movie number 181: ** Ben-Hur **\n",
      "Scrapping movie number 182: ** 12 años de esclavitud **\n",
      "Scrapping movie number 183: ** Smultronstället **\n",
      "Error scraping https://www.imdb.com/title/tt0050986/?pf_rd_m=A2FGELUUNOQJNL&pf_rd_p=1a264172-ae11-42e4-8ef7-7fed1973bb8f&pf_rd_r=MBY5AS7XQMWKBXS6Y8N7&pf_rd_s=center-1&pf_rd_t=15506&pf_rd_i=top&ref_=chttp_tt_183\n",
      "Status_Code = 200\n",
      "'NoneType' object has no attribute 'get_text'\n",
      "Scrapping movie number 184: ** Perdida **\n",
      "Scrapping movie number 185: ** The Deer Hunter **\n",
      "Scrapping movie number 186: ** Before Sunrise **\n",
      "Scrapping movie number 187: ** In the Name of the Father **\n",
      "Error scraping https://www.imdb.com/title/tt0107207/?pf_rd_m=A2FGELUUNOQJNL&pf_rd_p=1a264172-ae11-42e4-8ef7-7fed1973bb8f&pf_rd_r=MBY5AS7XQMWKBXS6Y8N7&pf_rd_s=center-1&pf_rd_t=15506&pf_rd_i=top&ref_=chttp_tt_187\n",
      "Status_Code = 200\n",
      "'NoneType' object has no attribute 'get_text'\n",
      "Scrapping movie number 188: ** Harry Potter y las reliquias de la muerte: Parte 2 **\n",
      "Scrapping movie number 189: ** Mr. Smith Goes to Washington **\n",
      "Scrapping movie number 190: ** El gran hotel Budapest **\n",
      "Scrapping movie number 191: ** Sherlock Jr. **\n",
      "Scrapping movie number 192: ** Le salaire de la peur **\n",
      "Scrapping movie number 193: ** La habitación **\n",
      "Scrapping movie number 194: ** Barry Lyndon **\n",
      "Scrapping movie number 195: ** Salinui chueok **\n",
      "Scrapping movie number 196: ** Det sjunde inseglet **\n",
      "Error scraping https://www.imdb.com/title/tt0050976/?pf_rd_m=A2FGELUUNOQJNL&pf_rd_p=1a264172-ae11-42e4-8ef7-7fed1973bb8f&pf_rd_r=MBY5AS7XQMWKBXS6Y8N7&pf_rd_s=center-1&pf_rd_t=15506&pf_rd_i=top&ref_=chttp_tt_196\n",
      "Status_Code = 200\n",
      "'NoneType' object has no attribute 'get_text'\n",
      "Scrapping movie number 197: ** Hacksaw Ridge **\n",
      "Scrapping movie number 198: ** Relatos salvajes **\n",
      "Scrapping movie number 199: ** Klaus **\n",
      "Scrapping movie number 200: ** The Big Lebowski **\n",
      "Scrapping movie number 201: ** Pather Panchali **\n",
      "Scrapping movie number 202: ** How to Train Your Dragon **\n",
      "Scrapping movie number 203: ** Mad Max: Furia en el Camino **\n",
      "Scrapping movie number 204: ** Mary and Max. **\n",
      "Scrapping movie number 205: ** La passion de Jeanne d'Arc **\n",
      "Scrapping movie number 206: ** Jaws **\n",
      "Scrapping movie number 207: ** Monsters, Inc. **\n",
      "Scrapping movie number 208: ** Hotel Rwanda **\n",
      "Scrapping movie number 209: ** Tôkyô monogatari **\n",
      "Scrapping movie number 210: ** Dead Poets Society **\n",
      "Scrapping movie number 211: ** Platoon **\n",
      "Scrapping movie number 212: ** Rocky **\n",
      "Scrapping movie number 213: ** Contra lo imposible **\n",
      "Scrapping movie number 214: ** Stand by Me **\n",
      "Scrapping movie number 215: ** The Terminator **\n",
      "Scrapping movie number 216: ** Rush: pasión y gloria **\n",
      "Scrapping movie number 217: ** Into the Wild **\n",
      "Scrapping movie number 218: ** Spotlight **\n",
      "Scrapping movie number 219: ** Network **\n",
      "Scrapping movie number 220: ** El mago de Oz **\n",
      "Scrapping movie number 221: ** Logan **\n",
      "Scrapping movie number 222: ** Groundhog Day **\n",
      "Scrapping movie number 223: ** Ratatouille **\n",
      "Scrapping movie number 224: ** The Exorcist **\n",
      "Scrapping movie number 225: ** Before Sunset **\n",
      "Scrapping movie number 226: ** The Best Years of Our Lives **\n",
      "Scrapping movie number 227: ** The Incredibles **\n",
      "Scrapping movie number 228: ** La battaglia di Algeri **\n",
      "Scrapping movie number 229: ** Rebecca **\n",
      "Scrapping movie number 230: ** To Be or Not to Be **\n",
      "Scrapping movie number 231: ** The Grapes of Wrath **\n",
      "Scrapping movie number 232: ** Cool Hand Luke **\n",
      "Scrapping movie number 233: ** Amores perros **\n",
      "Scrapping movie number 234: ** Hachi: A Dog's Tale **\n",
      "Scrapping movie number 235: ** Dersu Uzala **\n",
      "Scrapping movie number 236: ** Babam ve Oglum **\n",
      "Error scraping https://www.imdb.com/title/tt0476735/?pf_rd_m=A2FGELUUNOQJNL&pf_rd_p=1a264172-ae11-42e4-8ef7-7fed1973bb8f&pf_rd_r=MBY5AS7XQMWKBXS6Y8N7&pf_rd_s=center-1&pf_rd_t=15506&pf_rd_i=top&ref_=chttp_tt_236\n",
      "Status_Code = 200\n",
      "'NoneType' object has no attribute 'get_text'\n",
      "Scrapping movie number 237: ** Les quatre cents coups **\n",
      "Scrapping movie number 238: ** Persona **\n",
      "Scrapping movie number 239: ** Life of Brian **\n",
      "Scrapping movie number 240: ** La haine **\n",
      "Scrapping movie number 241: ** Pirates of the Caribbean: The Curse of the Black Pearl **\n",
      "Scrapping movie number 242: ** It Happened One Night **\n",
      "Scrapping movie number 243: ** La novicia rebelde **\n",
      "Scrapping movie number 244: ** La doncella **\n",
      "Scrapping movie number 245: ** Gandhi **\n",
      "Scrapping movie number 246: ** Aladdin **\n",
      "Scrapping movie number 247: ** Historias cruzadas **\n",
      "Scrapping movie number 248: ** La Bella y la Bestia **\n",
      "Scrapping movie number 249: ** Du rififi chez les hommes **\n",
      "Scrapping movie number 250: ** Dances with Wolves **\n"
     ]
    }
   ],
   "source": [
    "# like this\n",
    "def summary(general, links):\n",
    "    summary_list = []\n",
    "    counter = 1\n",
    "    for i in links: \n",
    "        try:\n",
    "            test = rq.get(i)\n",
    "            if test.status_code == 200:\n",
    "                s_test = BeautifulSoup(test.text, 'lxml')\n",
    "                name = s_test.find('h1', attrs = {'data-testid':'hero-title-block__title'}).get_text()\n",
    "                print('Scrapping movie number {}: ** {} **'.format(counter, name))\n",
    "                # Extracting summary\n",
    "                summary = s_test.find('p', attrs = {'data-testid':'plot'}).get_text()\n",
    "                if summary:\n",
    "                    summary_list.append(summary)\n",
    "                else:\n",
    "                    summary_list.append('None')\n",
    "                counter += 1\n",
    "        except Exception as e:\n",
    "            print('Error scraping {}'.format(i))\n",
    "            print('Status_Code = {}'.format(test.status_code))\n",
    "            print(e)\n",
    "            summary_list.append('None')\n",
    "            counter += 1\n",
    "    return summary_list\n",
    "summary_list = summary(general,links)"
   ]
  },
  {
   "cell_type": "code",
   "execution_count": 30,
   "metadata": {},
   "outputs": [],
   "source": [
    "# Adding all the information in one huge dictionary..\n",
    "top_250_movies = {}\n",
    "top_250_movies['movie_name'] = movie_names\n",
    "top_250_movies['rating'] = ratings\n",
    "top_250_movies['qualifiers'] = qualifiers\n",
    "top_250_movies['release_year'] = year\n",
    "top_250_movies['protagonist_dir'] = protagonist_dir\n",
    "top_250_movies['IMDB_link'] = links\n",
    "top_250_movies['Summary'] = summary_list"
   ]
  },
  {
   "cell_type": "code",
   "execution_count": 31,
   "metadata": {},
   "outputs": [],
   "source": [
    "# Creating the data frame\n",
    "df = pd.DataFrame(top_250_movies)"
   ]
  },
  {
   "cell_type": "code",
   "execution_count": 25,
   "metadata": {},
   "outputs": [
    {
     "data": {
      "text/html": [
       "<div>\n",
       "<style scoped>\n",
       "    .dataframe tbody tr th:only-of-type {\n",
       "        vertical-align: middle;\n",
       "    }\n",
       "\n",
       "    .dataframe tbody tr th {\n",
       "        vertical-align: top;\n",
       "    }\n",
       "\n",
       "    .dataframe thead th {\n",
       "        text-align: right;\n",
       "    }\n",
       "</style>\n",
       "<table border=\"1\" class=\"dataframe\">\n",
       "  <thead>\n",
       "    <tr style=\"text-align: right;\">\n",
       "      <th></th>\n",
       "      <th>movie_name</th>\n",
       "      <th>rating</th>\n",
       "      <th>qualifiers</th>\n",
       "      <th>release_year</th>\n",
       "      <th>protagonist_dir</th>\n",
       "      <th>IMDB_link</th>\n",
       "      <th>Summary</th>\n",
       "    </tr>\n",
       "  </thead>\n",
       "  <tbody>\n",
       "    <tr>\n",
       "      <th>0</th>\n",
       "      <td>The Shawshank Redemption</td>\n",
       "      <td>9.233473393603022</td>\n",
       "      <td>2575422</td>\n",
       "      <td>(1994)</td>\n",
       "      <td>Frank Darabont (dir.), Tim Robbins, Morgan Fre...</td>\n",
       "      <td>https://www.imdb.com/title/tt0111161/?pf_rd_m=...</td>\n",
       "      <td>Two imprisoned men bond over a number of years...</td>\n",
       "    </tr>\n",
       "    <tr>\n",
       "      <th>1</th>\n",
       "      <td>El Padrino</td>\n",
       "      <td>9.155447858835135</td>\n",
       "      <td>1773370</td>\n",
       "      <td>(1972)</td>\n",
       "      <td>Francis Ford Coppola (dir.), Marlon Brando, Al...</td>\n",
       "      <td>https://www.imdb.com/title/tt0068646/?pf_rd_m=...</td>\n",
       "      <td>The aging patriarch of an organized crime dyna...</td>\n",
       "    </tr>\n",
       "    <tr>\n",
       "      <th>2</th>\n",
       "      <td>The Dark Knight</td>\n",
       "      <td>8.984063237648467</td>\n",
       "      <td>2542872</td>\n",
       "      <td>(2008)</td>\n",
       "      <td>Christopher Nolan (dir.), Christian Bale, Heat...</td>\n",
       "      <td>https://www.imdb.com/title/tt0468569/?pf_rd_m=...</td>\n",
       "      <td>When the menace known as the Joker wreaks havo...</td>\n",
       "    </tr>\n",
       "    <tr>\n",
       "      <th>3</th>\n",
       "      <td>El padrino: Parte II</td>\n",
       "      <td>8.98377124965592</td>\n",
       "      <td>1226213</td>\n",
       "      <td>(1974)</td>\n",
       "      <td>Francis Ford Coppola (dir.), Al Pacino, Robert...</td>\n",
       "      <td>https://www.imdb.com/title/tt0071562/?pf_rd_m=...</td>\n",
       "      <td>The early life and career of Vito Corleone in ...</td>\n",
       "    </tr>\n",
       "    <tr>\n",
       "      <th>4</th>\n",
       "      <td>12 Angry Men</td>\n",
       "      <td>8.946286749090616</td>\n",
       "      <td>760615</td>\n",
       "      <td>(1957)</td>\n",
       "      <td>Sidney Lumet (dir.), Henry Fonda, Lee J. Cobb</td>\n",
       "      <td>https://www.imdb.com/title/tt0050083/?pf_rd_m=...</td>\n",
       "      <td>The jury in a New York City murder trial is fr...</td>\n",
       "    </tr>\n",
       "  </tbody>\n",
       "</table>\n",
       "</div>"
      ],
      "text/plain": [
       "                 movie_name             rating qualifiers release_year  \\\n",
       "0  The Shawshank Redemption  9.233473393603022    2575422       (1994)   \n",
       "1                El Padrino  9.155447858835135    1773370       (1972)   \n",
       "2           The Dark Knight  8.984063237648467    2542872       (2008)   \n",
       "3      El padrino: Parte II   8.98377124965592    1226213       (1974)   \n",
       "4              12 Angry Men  8.946286749090616     760615       (1957)   \n",
       "\n",
       "                                     protagonist_dir  \\\n",
       "0  Frank Darabont (dir.), Tim Robbins, Morgan Fre...   \n",
       "1  Francis Ford Coppola (dir.), Marlon Brando, Al...   \n",
       "2  Christopher Nolan (dir.), Christian Bale, Heat...   \n",
       "3  Francis Ford Coppola (dir.), Al Pacino, Robert...   \n",
       "4      Sidney Lumet (dir.), Henry Fonda, Lee J. Cobb   \n",
       "\n",
       "                                           IMDB_link  \\\n",
       "0  https://www.imdb.com/title/tt0111161/?pf_rd_m=...   \n",
       "1  https://www.imdb.com/title/tt0068646/?pf_rd_m=...   \n",
       "2  https://www.imdb.com/title/tt0468569/?pf_rd_m=...   \n",
       "3  https://www.imdb.com/title/tt0071562/?pf_rd_m=...   \n",
       "4  https://www.imdb.com/title/tt0050083/?pf_rd_m=...   \n",
       "\n",
       "                                             Summary  \n",
       "0  Two imprisoned men bond over a number of years...  \n",
       "1  The aging patriarch of an organized crime dyna...  \n",
       "2  When the menace known as the Joker wreaks havo...  \n",
       "3  The early life and career of Vito Corleone in ...  \n",
       "4  The jury in a New York City murder trial is fr...  "
      ]
     },
     "execution_count": 25,
     "metadata": {},
     "output_type": "execute_result"
    }
   ],
   "source": [
    "# Let's see what we have here...\n",
    "df.head()"
   ]
  },
  {
   "cell_type": "code",
   "execution_count": null,
   "metadata": {},
   "outputs": [],
   "source": [
    "# And finally we export the data set to csv\n",
    "df.to_csv('top_imdb_250_movies.csv')"
   ]
  }
 ],
 "metadata": {
  "kernelspec": {
   "display_name": "Python 3",
   "language": "python",
   "name": "python3"
  },
  "language_info": {
   "codemirror_mode": {
    "name": "ipython",
    "version": 3
   },
   "file_extension": ".py",
   "mimetype": "text/x-python",
   "name": "python",
   "nbconvert_exporter": "python",
   "pygments_lexer": "ipython3",
   "version": "3.8.5"
  }
 },
 "nbformat": 4,
 "nbformat_minor": 4
}
